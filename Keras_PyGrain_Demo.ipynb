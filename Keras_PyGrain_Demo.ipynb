{
  "nbformat": 4,
  "nbformat_minor": 0,
  "metadata": {
    "colab": {
      "provenance": []
    },
    "kernelspec": {
      "name": "python3",
      "display_name": "Python 3"
    },
    "language_info": {
      "name": "python"
    }
  },
  "cells": [
    {
      "cell_type": "code",
      "execution_count": 2,
      "metadata": {
        "id": "OsG8pVHo6jS5"
      },
      "outputs": [],
      "source": [
        "!pip install -q -U keras==3.11.1\n",
        "!pip install -q -U grain"
      ]
    },
    {
      "cell_type": "code",
      "source": [
        "import keras\n",
        "import grain\n",
        "import numpy as np\n",
        "\n",
        "# A simple model for demonstration\n",
        "class SimpleModel(keras.Model):\n",
        "    def __init__(self):\n",
        "        super().__init__()\n",
        "        self.dense = keras.layers.Dense(1, activation=\"relu\")\n",
        "\n",
        "    def call(self, x):\n",
        "        return self.dense(x)\n",
        "\n",
        "# Create a custom data source using PyGrain\n",
        "class SimpleDataSource(grain.sources.RandomAccessDataSource):\n",
        "    def __init__(self, num_samples=100):\n",
        "        super().__init__()\n",
        "        self.data = np.arange(num_samples, dtype=np.float32).reshape(-1, 1)\n",
        "        self.labels = self.data * 2 + 1\n",
        "\n",
        "    def __len__(self):\n",
        "        return len(self.data)\n",
        "\n",
        "    def __getitem__(self, index):\n",
        "        return self.data[index], self.labels[index]\n",
        "\n",
        "# Create a PyGrain DataLoader\n",
        "data_source = SimpleDataSource()\n",
        "dataloader = grain.DataLoader(\n",
        "    data_source=data_source,\n",
        "    sampler=grain.samplers.SequentialSampler(len(data_source)),\n",
        "    operations=[grain.transforms.Batch(batch_size=10, drop_remainder=False)]\n",
        ")\n",
        "\n",
        "# Instantiate and compile the Keras model\n",
        "model = SimpleModel()\n",
        "model.compile(\n",
        "    optimizer=keras.optimizers.SGD(learning_rate=0.1),\n",
        "    loss=keras.losses.MeanSquaredError(),\n",
        "    metrics=[keras.metrics.MeanAbsoluteError()]\n",
        ")\n",
        "\n",
        "# Train the model using the PyGrain DataLoader\n",
        "print(\"Training with PyGrain DataLoader...\")\n",
        "model.fit(dataloader, epochs=2)\n",
        "\n",
        "print(\"Evaluation with PyGrain DataLoader...\")\n",
        "model.evaluate(dataloader)\n"
      ],
      "metadata": {
        "colab": {
          "base_uri": "https://localhost:8080/"
        },
        "id": "gx-IYaBX6nXq",
        "outputId": "e239af62-d6fe-4013-dc49-355cc226fa10"
      },
      "execution_count": 1,
      "outputs": [
        {
          "output_type": "stream",
          "name": "stdout",
          "text": [
            "Training with PyGrain DataLoader...\n",
            "Epoch 1/2\n",
            "\u001b[1m10/10\u001b[0m \u001b[32m━━━━━━━━━━━━━━━━━━━━\u001b[0m\u001b[37m\u001b[0m \u001b[1m1s\u001b[0m 6ms/step - loss: 14819.5654 - mean_absolute_error: 109.1741\n",
            "Epoch 2/2\n"
          ]
        },
        {
          "output_type": "stream",
          "name": "stderr",
          "text": [
            "/usr/local/lib/python3.11/dist-packages/keras/src/trainers/epoch_iterator.py:164: UserWarning: Your input ran out of data; interrupting training. Make sure that your dataset or generator can generate at least `steps_per_epoch * epochs` batches. You may need to use the `.repeat()` function when building your dataset.\n",
            "  self._interrupted_warning()\n"
          ]
        },
        {
          "output_type": "stream",
          "name": "stdout",
          "text": [
            "\u001b[1m10/10\u001b[0m \u001b[32m━━━━━━━━━━━━━━━━━━━━\u001b[0m\u001b[37m\u001b[0m \u001b[1m0s\u001b[0m 5ms/step - loss: 13333.0000 - mean_absolute_error: 100.0000\n",
            "Evaluation with PyGrain DataLoader...\n",
            "\u001b[1m10/10\u001b[0m \u001b[32m━━━━━━━━━━━━━━━━━━━━\u001b[0m\u001b[37m\u001b[0m \u001b[1m0s\u001b[0m 8ms/step - loss: 13333.0000 - mean_absolute_error: 100.0000\n"
          ]
        },
        {
          "output_type": "execute_result",
          "data": {
            "text/plain": [
              "[13333.0, 100.0]"
            ]
          },
          "metadata": {},
          "execution_count": 1
        }
      ]
    }
  ]
}